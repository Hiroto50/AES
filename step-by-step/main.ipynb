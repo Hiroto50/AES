{
 "cells": [
  {
   "cell_type": "code",
   "execution_count": 1,
   "metadata": {},
   "outputs": [],
   "source": [
    "from src.utils.keys import generete_round_key, sub_byte, shift_rows, mix_columns\n",
    "from src.utils.transformation import string_to_hex, int_matrix_to_hex_string_matrix, matrix_to_string\n",
    "from src.utils.format import key_to_4x4_matrix\n",
    "from src.constants import SBOX\n",
    "\n",
    "from src.constants import CONSTANT_MATRIX, ENCODE_ROUND_KEYS\n",
    "from numpy import matrix, dot"
   ]
  },
  {
   "attachments": {},
   "cell_type": "markdown",
   "metadata": {},
   "source": [
    "## Plain Text\n",
    "---"
   ]
  },
  {
   "cell_type": "code",
   "execution_count": 2,
   "metadata": {},
   "outputs": [],
   "source": [
    "plain_text = \"Two One Nine Two\"\n",
    "plain_text_hex = string_to_hex(plain_text)"
   ]
  },
  {
   "cell_type": "code",
   "execution_count": 3,
   "metadata": {},
   "outputs": [
    {
     "name": "stdout",
     "output_type": "stream",
     "text": [
      "54 77 6f 20 4f 6e 65 20 4e 69 6e 65 20 54 77 6f\n"
     ]
    }
   ],
   "source": [
    "print(plain_text_hex)"
   ]
  },
  {
   "cell_type": "code",
   "execution_count": 7,
   "metadata": {},
   "outputs": [
    {
     "data": {
      "text/plain": [
       "[['54', '4f', '4e', '20'],\n",
       " ['77', '6e', '69', '54'],\n",
       " ['6f', '65', '6e', '77'],\n",
       " ['20', '20', '65', '6f']]"
      ]
     },
     "execution_count": 7,
     "metadata": {},
     "output_type": "execute_result"
    }
   ],
   "source": [
    "preivous_key_matrix = key_to_4x4_matrix(plain_text_hex)\n",
    "preivous_key_matrix"
   ]
  },
  {
   "attachments": {},
   "cell_type": "markdown",
   "metadata": {},
   "source": [
    "## First encryption key (round 0)\n",
    "---"
   ]
  },
  {
   "cell_type": "code",
   "execution_count": 5,
   "metadata": {},
   "outputs": [],
   "source": [
    "encryption_key = \"Thats my Kung Fu\"\n",
    "encryption_key_hex = string_to_hex(encryption_key)"
   ]
  },
  {
   "cell_type": "code",
   "execution_count": 6,
   "metadata": {},
   "outputs": [
    {
     "name": "stdout",
     "output_type": "stream",
     "text": [
      "54 68 61 74 73 20 6d 79 20 4b 75 6e 67 20 46 75\n"
     ]
    }
   ],
   "source": [
    "print(encryption_key_hex)"
   ]
  },
  {
   "cell_type": "code",
   "execution_count": 8,
   "metadata": {},
   "outputs": [
    {
     "data": {
      "text/plain": [
       "[['54', '73', '20', '67'],\n",
       " ['68', '20', '4b', '20'],\n",
       " ['61', '6d', '75', '46'],\n",
       " ['74', '79', '6e', '75']]"
      ]
     },
     "execution_count": 8,
     "metadata": {},
     "output_type": "execute_result"
    }
   ],
   "source": [
    "round_key_matrix = key_to_4x4_matrix(encryption_key_hex)\n",
    "round_key_matrix"
   ]
  },
  {
   "attachments": {},
   "cell_type": "markdown",
   "metadata": {},
   "source": [
    "## Apply XOR\n",
    "---"
   ]
  },
  {
   "cell_type": "code",
   "execution_count": 10,
   "metadata": {},
   "outputs": [],
   "source": [
    "res = generete_round_key(preivous_key_matrix, round_key_matrix)"
   ]
  },
  {
   "cell_type": "code",
   "execution_count": 11,
   "metadata": {},
   "outputs": [
    {
     "data": {
      "text/plain": [
       "[['00', '3c', '6e', '47'],\n",
       " ['1f', '4e', '22', '74'],\n",
       " ['0e', '08', '1b', '31'],\n",
       " ['54', '59', '0b', '1a']]"
      ]
     },
     "execution_count": 11,
     "metadata": {},
     "output_type": "execute_result"
    }
   ],
   "source": [
    "res"
   ]
  },
  {
   "attachments": {},
   "cell_type": "markdown",
   "metadata": {},
   "source": [
    "## Apply sub-byte\n",
    "---"
   ]
  },
  {
   "cell_type": "code",
   "execution_count": 12,
   "metadata": {},
   "outputs": [
    {
     "data": {
      "text/plain": [
       "[['0x63', '0xeb', '0x9f', '0xa0'],\n",
       " ['0xc0', '0x2f', '0x93', '0x92'],\n",
       " ['0xab', '0x30', '0xaf', '0xc7'],\n",
       " ['0x20', '0xcb', '0x2b', '0xa2']]"
      ]
     },
     "execution_count": 12,
     "metadata": {},
     "output_type": "execute_result"
    }
   ],
   "source": [
    "res = sub_byte(res)\n",
    "res"
   ]
  },
  {
   "attachments": {},
   "cell_type": "markdown",
   "metadata": {},
   "source": [
    "## Apply shift rows\n",
    "---"
   ]
  },
  {
   "cell_type": "code",
   "execution_count": 13,
   "metadata": {},
   "outputs": [
    {
     "data": {
      "text/plain": [
       "[['0x63', '0xeb', '0x9f', '0xa0'],\n",
       " ['0x2f', '0x93', '0x92', '0xc0'],\n",
       " ['0xaf', '0xc7', '0xab', '0x30'],\n",
       " ['0xa2', '0x20', '0xcb', '0x2b']]"
      ]
     },
     "execution_count": 13,
     "metadata": {},
     "output_type": "execute_result"
    }
   ],
   "source": [
    "res = shift_rows(res)\n",
    "res"
   ]
  },
  {
   "attachments": {},
   "cell_type": "markdown",
   "metadata": {},
   "source": [
    "## Mix columns\n",
    "---"
   ]
  },
  {
   "cell_type": "code",
   "execution_count": 14,
   "metadata": {},
   "outputs": [
    {
     "data": {
      "text/plain": [
       "[['ba', '75', 'f4', '7a'],\n",
       " ['84', 'a4', '8d', '32'],\n",
       " ['e8', '8d', '06', '0e'],\n",
       " ['1b', '40', '7d', '5d']]"
      ]
     },
     "execution_count": 14,
     "metadata": {},
     "output_type": "execute_result"
    }
   ],
   "source": [
    "final_matrix_round = mix_columns(res)\n",
    "final_matrix_round = int_matrix_to_hex_string_matrix(final_matrix_round)\n",
    "final_matrix_round"
   ]
  },
  {
   "attachments": {},
   "cell_type": "markdown",
   "metadata": {},
   "source": [
    "## Add rounds\n",
    "---"
   ]
  },
  {
   "cell_type": "code",
   "execution_count": 17,
   "metadata": {},
   "outputs": [
    {
     "name": "stdout",
     "output_type": "stream",
     "text": [
      "Round 1 -----------------\n",
      "Round key: E2 32 FC F1 91 12 91 88 B1 59 E4 E6 D6 79 A2 93\n",
      "Round result: 10 85 58 e8 3b 8e a7 c1 47 2c e1 30 8a 1d 4d 7f\n",
      "\n",
      "Round 2 -----------------\n",
      "Round key: 56 08 20 07 C7 1A B1 8F 76 43 55 69 A0 3A F7 FA\n",
      "Round result: c8 05 db 74 78 f2 35 61 b9 f4 fe 47 92 1b 77 07\n",
      "\n",
      "Round 3 -----------------\n",
      "Round key: D2 60 0D E7 15 7A BC 68 63 39 E9 01 C3 03 1E FB\n",
      "Round result: 48 8a 56 b2 c0 f6 05 51 3f 20 4d 96 cf 26 e8 6f\n",
      "\n",
      "Round 4 -----------------\n",
      "Round key: A1 12 02 C9 B4 68 BE A1 D7 51 57 A0 14 52 49 5B\n",
      "Round result: 9b ed 62 bb ee 24 04 ad a5 84 00 66 d5 1a 71 76\n",
      "\n",
      "Round 5 -----------------\n",
      "Round key: B1 29 3B 33 05 41 85 92 D2 10 D2 32 C6 42 9B 69\n",
      "Round result: 73 7b 82 57 e2 06 40 1f 60 9b 79 75 d2 f6 ef 94\n",
      "\n",
      "Round 6 -----------------\n",
      "Round key: BD 3D C2 B7 B8 7C 47 15 6A 6C 95 27 AC 2E 0E 4E\n",
      "Round result: e1 3a 2f 3c a3 e2 ca b8 54 51 1b 69 c9 51 a5 c2\n",
      "\n",
      "Round 7 -----------------\n",
      "Round key: CC 96 ED 16 74 EA AA 03 1E 86 3F 24 B2 A8 31 6A\n",
      "Round result: 0f 20 d9 ea d1 5d 6b 15 86 b2 a1 ce 90 33 85 aa\n",
      "\n",
      "Round 8 -----------------\n",
      "Round key: 8E 51 EF 21 FA BB 45 22 E4 3D 7A 06 56 95 4B 6C\n",
      "Round result: 9c 6f 2c 50 39 44 90 54 79 34 9e 42 02 b0 57 c9\n",
      "\n",
      "Round 9 -----------------\n",
      "Round key: BF E2 BF 90 45 59 FA B2 A1 64 80 B4 F7 F1 CB D8\n",
      "Round result: 4b 61 fb a3 e3 3d de b2 73 e1 b1 bb f2 a2 db f4\n",
      "\n",
      "Round 10 -----------------\n",
      "Round key: 28 FD DE F8 6D A4 24 4A CC C0 A4 FE 3B 31 6F 26\n",
      "Round result: 28 62 63 d0 5e a5 b5 ed 0e 66 f1 e1 83 6c 22 60\n",
      "\n"
     ]
    }
   ],
   "source": [
    "for i in range(len(ENCODE_ROUND_KEYS)):\n",
    "    print(f\"Round {i+1} -----------------\")\n",
    "    print(f\"Round key: {ENCODE_ROUND_KEYS[i]}\")\n",
    "    round_key_matrix = key_to_4x4_matrix(ENCODE_ROUND_KEYS[i])\n",
    "    res = generete_round_key(final_matrix_round, round_key_matrix)\n",
    "    res = sub_byte(res)\n",
    "    res = shift_rows(res)\n",
    "    final_matrix_round = mix_columns(res)\n",
    "    final_matrix_round = int_matrix_to_hex_string_matrix(final_matrix_round)\n",
    "    print(F\"Round result: {matrix_to_string(final_matrix_round)}\\n\")"
   ]
  },
  {
   "cell_type": "code",
   "execution_count": null,
   "metadata": {},
   "outputs": [],
   "source": [
    "#reference: https://www.simplilearn.com/tutorials/cryptography-tutorial/aes-encryption"
   ]
  }
 ],
 "metadata": {
  "kernelspec": {
   "display_name": "Python 3",
   "language": "python",
   "name": "python3"
  },
  "language_info": {
   "codemirror_mode": {
    "name": "ipython",
    "version": 3
   },
   "file_extension": ".py",
   "mimetype": "text/x-python",
   "name": "python",
   "nbconvert_exporter": "python",
   "pygments_lexer": "ipython3",
   "version": "3.10.6"
  },
  "orig_nbformat": 4
 },
 "nbformat": 4,
 "nbformat_minor": 2
}
